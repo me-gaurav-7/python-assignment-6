{
 "cells": [
  {
   "cell_type": "code",
   "execution_count": 1,
   "id": "fdb3386c-6992-43c9-876c-34a7714ab4e9",
   "metadata": {},
   "outputs": [],
   "source": [
    "#To add an element to a list in python, we can use my_list.append(element)\n",
    "Example:-"
   ]
  },
  {
   "cell_type": "code",
   "execution_count": 3,
   "id": "dd6647e3-50f6-4992-b4f5-ea2509966c78",
   "metadata": {},
   "outputs": [],
   "source": [
    "my_list = [1,2,3,4,5] #Existing List"
   ]
  },
  {
   "cell_type": "code",
   "execution_count": 4,
   "id": "77502f8c-14b5-49b3-a483-d04f321447d2",
   "metadata": {},
   "outputs": [],
   "source": [
    "#Using append()\n",
    "my_list.append(6)"
   ]
  },
  {
   "cell_type": "code",
   "execution_count": 5,
   "id": "765d2ef4-ed60-4e13-9945-83512a107b9e",
   "metadata": {},
   "outputs": [
    {
     "name": "stdout",
     "output_type": "stream",
     "text": [
      "[1, 2, 3, 4, 5, 6]\n"
     ]
    }
   ],
   "source": [
    "print(my_list)"
   ]
  },
  {
   "cell_type": "code",
   "execution_count": 13,
   "id": "27e55bea-cd20-4c50-9bf1-ea008c061e8c",
   "metadata": {},
   "outputs": [],
   "source": [
    "#remove(): This function is used to remove the first occurrence of a specified value from the list. The syntax for remove()is as follows:\n",
    "# my_list.remove()"
   ]
  },
  {
   "cell_type": "code",
   "execution_count": 14,
   "id": "5bf97abc-4d9c-4af1-8eb2-a3d69b6f339d",
   "metadata": {},
   "outputs": [],
   "source": [
    "my_list = [1,2,3,4,5]"
   ]
  },
  {
   "cell_type": "code",
   "execution_count": 15,
   "id": "1d93cd15-01ce-4249-8ade-e3b80050cc6c",
   "metadata": {},
   "outputs": [],
   "source": [
    "my_list.remove(4)"
   ]
  },
  {
   "cell_type": "code",
   "execution_count": 16,
   "id": "eaa9205a-2e94-4421-82a4-6ec68cce6be1",
   "metadata": {},
   "outputs": [
    {
     "name": "stdout",
     "output_type": "stream",
     "text": [
      "[1, 2, 3, 5]\n"
     ]
    }
   ],
   "source": [
    "print(my_list)"
   ]
  },
  {
   "cell_type": "code",
   "execution_count": 18,
   "id": "694b5436-a42a-468f-954c-d326cead223f",
   "metadata": {},
   "outputs": [],
   "source": [
    "# pop(): This function is used to remove and return an element at a specific index in the list. The syntax for pop() is as follows:\n",
    "# my_list.pop(index)"
   ]
  },
  {
   "cell_type": "code",
   "execution_count": 19,
   "id": "58b270ba-195a-4184-884f-de1e521b395c",
   "metadata": {},
   "outputs": [],
   "source": [
    "my_list = [1,2,3,4,5]"
   ]
  },
  {
   "cell_type": "code",
   "execution_count": 26,
   "id": "964b713a-f333-4e3e-9a07-c3cd51e96798",
   "metadata": {},
   "outputs": [],
   "source": [
    "removed_element = my_list.pop(2)"
   ]
  },
  {
   "cell_type": "code",
   "execution_count": 24,
   "id": "59fd5edf-90cc-4d67-867f-e9ce58a67c72",
   "metadata": {},
   "outputs": [
    {
     "name": "stdout",
     "output_type": "stream",
     "text": [
      "[1, 2, 4]\n"
     ]
    }
   ],
   "source": [
    "print(my_list)"
   ]
  },
  {
   "cell_type": "code",
   "execution_count": 27,
   "id": "7367aaea-f98b-4ce3-aa3e-fb3024162bb2",
   "metadata": {},
   "outputs": [
    {
     "name": "stdout",
     "output_type": "stream",
     "text": [
      "4\n"
     ]
    }
   ],
   "source": [
    "print(removed_element)"
   ]
  },
  {
   "cell_type": "code",
   "execution_count": 28,
   "id": "34793d80-17b8-4e6d-811b-e4677ea0dd94",
   "metadata": {},
   "outputs": [],
   "source": [
    "#To sort a list in descending order in Python, you can use the sort() method with the reverse=True parameter or use the sorted() function with the reverse=True argument. Here are examples of both approaches:"
   ]
  },
  {
   "cell_type": "code",
   "execution_count": 29,
   "id": "d76f544a-fb8a-41a4-b9e4-9f97747d26ca",
   "metadata": {},
   "outputs": [],
   "source": [
    "# Using the sort() method:"
   ]
  },
  {
   "cell_type": "code",
   "execution_count": 31,
   "id": "83057f3b-603c-45c9-83a8-9cc1549a099a",
   "metadata": {},
   "outputs": [],
   "source": [
    "my_list = [5,2,8,1,9]"
   ]
  },
  {
   "cell_type": "code",
   "execution_count": 32,
   "id": "1a559a62-5e69-42a3-9044-88e41aadf5ce",
   "metadata": {},
   "outputs": [],
   "source": [
    "my_list.sort(reverse=True)"
   ]
  },
  {
   "cell_type": "code",
   "execution_count": 33,
   "id": "484f4fe8-13f5-4a04-a79f-b16822fb204e",
   "metadata": {},
   "outputs": [
    {
     "name": "stdout",
     "output_type": "stream",
     "text": [
      "[9, 8, 5, 2, 1]\n"
     ]
    }
   ],
   "source": [
    "print(my_list)"
   ]
  },
  {
   "cell_type": "code",
   "execution_count": 34,
   "id": "b8244c39-9458-41fb-b6ae-a7f66f61c12b",
   "metadata": {},
   "outputs": [],
   "source": [
    "#To count the number of occurrences of an element in a list, you can use the count() method. Here's an example Python code that demonstrates this:"
   ]
  },
  {
   "cell_type": "code",
   "execution_count": 35,
   "id": "aa4d071c-676b-42ea-88b1-8d5ab862aede",
   "metadata": {},
   "outputs": [],
   "source": [
    "my_list = [1,2,3,4,2,1,2,3]"
   ]
  },
  {
   "cell_type": "code",
   "execution_count": 37,
   "id": "9a7eac36-fb61-43a7-bb65-984467502731",
   "metadata": {},
   "outputs": [],
   "source": [
    "element = 2"
   ]
  },
  {
   "cell_type": "code",
   "execution_count": 38,
   "id": "900c6825-77c9-40ad-b214-0ecc666bf3bd",
   "metadata": {},
   "outputs": [],
   "source": [
    "count = my_list.count(element)"
   ]
  },
  {
   "cell_type": "code",
   "execution_count": 40,
   "id": "314a1d8e-575a-40d1-a608-13d801cb6f83",
   "metadata": {},
   "outputs": [
    {
     "name": "stdout",
     "output_type": "stream",
     "text": [
      "3\n"
     ]
    }
   ],
   "source": [
    "print(count)"
   ]
  },
  {
   "cell_type": "code",
   "execution_count": 41,
   "id": "2acec6de-c1ae-4bd6-950c-9ec7dd827909",
   "metadata": {},
   "outputs": [],
   "source": [
    "#To reverse a list in Python, you can use the slicing technique. Here's an example code that demonstrates this:"
   ]
  },
  {
   "cell_type": "code",
   "execution_count": 42,
   "id": "3f705502-4ce3-4ee1-a7bf-0ef4dfda5260",
   "metadata": {},
   "outputs": [],
   "source": [
    "my_list = [1,2,3,4,5]"
   ]
  },
  {
   "cell_type": "code",
   "execution_count": null,
   "id": "fa438955-27aa-474a-9b7e-3633abee07d8",
   "metadata": {},
   "outputs": [],
   "source": []
  }
 ],
 "metadata": {
  "kernelspec": {
   "display_name": "Python 3 (ipykernel)",
   "language": "python",
   "name": "python3"
  },
  "language_info": {
   "codemirror_mode": {
    "name": "ipython",
    "version": 3
   },
   "file_extension": ".py",
   "mimetype": "text/x-python",
   "name": "python",
   "nbconvert_exporter": "python",
   "pygments_lexer": "ipython3",
   "version": "3.10.8"
  }
 },
 "nbformat": 4,
 "nbformat_minor": 5
}
